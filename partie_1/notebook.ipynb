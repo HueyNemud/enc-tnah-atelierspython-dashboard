{
 "cells": [
  {
   "cell_type": "code",
   "execution_count": null,
   "metadata": {},
   "outputs": [],
   "source": [
    "# **Préambule**\n",
    "# Mise à jour de la bibliothèque nbformats utilisée par Plotly par précaution\n",
    "%pip install --quiet nbformat"
   ]
  },
  {
   "cell_type": "markdown",
   "metadata": {},
   "source": [
    "# Séance 1 : Exploration et visualisation de données avec Pandas et Plotly\n",
    "\n",
    "Bonjour 👋 !\n",
    "\n",
    "Bienvenue dans la première partie de la séquence dédiée au développement d'un **tableau de bord**  (*dashboard*) pour explorer graphiquement un jeu de données de grande taille.\n",
    "\n",
    "## Objectifs de la séance 🎯\n",
    "\n",
    "- découvrir la bibliothèque Pandas pour manipuler des tables de données ;\n",
    "- découvrir la bibliothèque Plotly pour créer des graphiques interactifs ;\n",
    "- apprendre à visualiser simplement une ressources IIIF dans un *notebook* Jupyter.\n",
    "\n",
    "## Important ❗\n",
    "\n",
    "1. Répondez aux questions directement dans les cellules de ce notebook. Cette fois il n'y a **pas de fichier .py à remplir**.\n",
    "\n",
    "2. 🆘 Une question n'est pas claire ? Vous êtes bloqué(e) ?  N'attendez pas, **appelez à l'aide 🙋**.  \n",
    "\n",
    "3. 🤖 Vous pouvez utiliser ChatGPT/Gemini/etc. pour vous aider, **mais** contraignez vous à n'utiliser ses propositions **que si vous les comprenez vraiment**. Ne devenez pas esclave de la machine ! 🙏\n",
    "\n",
    "4. 😌 Si vous n'avez pas réussi ou pas eu le temps de répondre à une question, **pas de panique**, le fichier `correction.ipynb` contient une solution !\n",
    "\n",
    "ℹ️ **Info** : La difficulté d'une question **🧩**  est indiquée de ⭐ à ⭐⭐⭐⭐."
   ]
  },
  {
   "cell_type": "markdown",
   "metadata": {},
   "source": [
    "# Une histoire dont vous êtes le héros<sup>TM</sup> 📰\n",
    "\n",
    "**Novembre 2025**, jeune diplômé.e de l'École Nationale des Chartes (bravo !👏), vous décrochez un travail  d'ingénieur.e. au sein d'un projet de recherche en humanités numériques dont le but est de créer de **nouveaux modes d'exploration de la presse ancienne française** (le projet **ÉPAF**, donc).\n",
    "Votre mission : reprendre le corpus de données sur la presse produit il y a 10 ans par la BnF pour le projet [Europeana Newspaper](http://www.europeana-newspapers.eu/), et aider les historien.ne.s de votre équipe à en comprendre le contenu et commencer à identifier les analyses possibles.\n",
    "\n",
    "Le but de ce grand projet européen était de rendre la presse ancienne plus visible et plus facile à explorer par le grand public comme par les universitaires. Environ 887 000 titres de presse numérisés et OCRisés ont ainsi été rendus consultables en ligne, sur [https://www.europeana.eu/fr/themes/newspapers ](https://www.europeana.eu/fr/themes/newspapers ).\n",
    "\n",
    "La BnF y a participé en traitant près de **3 millions** de pages de journaux qui sont aussi accessibles aujourd'hui sur [Gallica](https://gallica.bnf.fr/selections/fr/html/presse-et-revues/les-principaux-quotidiens).\n",
    "La bibliothèque a ouvert l'intégralité des données issues de ces traitements : textes OCRisés, mise en page structurée, images, etc.\n",
    "\n",
    "Ces jeux de données sont tous accessibles depuis la page de présentation du projet sur le site **API et jeux de données** de la BnF : [https://api.bnf.fr/fr/node/190](https://api.bnf.fr/fr/node/190).\n",
    "Prenez une minute pour lire le texte de présentation qui complète ce résumé rapide.\n",
    "\n",
    "\n",
    "# Le corpus 📦\n",
    "\n",
    "Pour l'instant, les membres du projet sont surtout interessés par l'un des livrables créé par la BnF : **les métadonnées quantitatives produites sur la presse nationale et régionale aux XIX<sup>e</sup> et XX<sup>e</sup> siècles**."
   ]
  },
  {
   "cell_type": "markdown",
   "metadata": {},
   "source": [
    "<div style=\"border-top: 1px solid #ff9800; padding: 10px; border-radius: 5px; color:#ff9800;\"><strong>🧩 - QUESTION 1 - ⭐⭐</strong></div>\n",
    "\n",
    "Lisez la page de description de ces métadonnées afin de répondre aux questions de suivantes :\n",
    "\n",
    "🡆 **[https://api.bnf.fr/fr/metadonnees-quantitatives-de-la-presse-ancienne-xixe-xxe-siecles](https://api.bnf.fr/fr/metadonnees-quantitatives-de-la-presse-ancienne-xixe-xxe-siecles)**\n",
    "\n",
    "- Combien de journeaux différents ont été traités par la BnF ?\n",
    "- Quelle est la période couverte ?\n",
    "- Quelles informations contiennent ces métadonnées ?\n",
    "- Comment s'appelle l'idenfiant unique d'une ressource numérique sur Gallica ?\n",
    "- Quel est l'identifiant du Petit Parisien ? \n",
    "  - Quel est l'identifiant de l'édition du 16 janvier 1924 ? \n",
    "    - Comment l'obtenir en utilisant l'API de Gallica ?\n",
    "<div style=\"border-bottom: 1px solid #ff9800; padding: 10px; border-radius: 5px;\"></div>"
   ]
  },
  {
   "cell_type": "markdown",
   "metadata": {},
   "source": [
    "Ces métadonnées sont disponibles aux formats XML, JSON, et CSV, mais à chaque fois avec quelques défauts qui les rendent difficiles à utiliser telles quelles.\n",
    "\n",
    "Heureusement, un collègue du projet a fait un premier reformatage des données ✨, qu'il vous transmet sous forme d'une archive ZIP, c'est `./presse_xix-xxe.zip`.\n",
    "\n",
    "Décompressez cette archive dans le répertoire courant (`partie_1/`) pour récupérer les **2 fichiers CSV** qu'elle contient :\n",
    "```raw\n",
    "📂 ./partie_1/\n",
    "├── 🗎 presse_xix_xxe_arks.csv\n",
    "├── 🗎 presse_xix_xxe_meta.csv\n",
    "├── ...\n",
    "└── notebook.ipynb\n",
    "```\n",
    "\n",
    "Vous voilà donc avec le corpus sous forme de deux tables de données stockées au format CSV, c'est à dire sous forme de texte structuré par un séparateur (par défaut la virgule - *comma*, d'où CSV = *Comma Separated Values*).\n",
    "\n",
    "Partons maintenant à la découverte de son contenu ! 🔎\n",
    "\n"
   ]
  },
  {
   "cell_type": "markdown",
   "metadata": {},
   "source": [
    "# A/ Manipuler les métadonnées de la presse avec Pandas 🐼\n",
    "\n",
    "[**Pandas**](https://pandas.pydata.org/) est une bibliothèque Python dédiée à la manipulation et à l'analyse de données sous formes de tableaux ou de grandes séries de valeurs ([temporelles notamment](https://fr.wikipedia.org/wiki/S%C3%A9rie_temporelle)).\n",
    "\n",
    "C'est aujourd'hui l'une des bibliothèque Python les plus populaires et les plus utilisées pour l'analyse de données, dans les sciences computationelles bien sûr, mais aussi dans les travaux quantitatifs en sciences sociales ... et donc logiquement en \"humanités numériques\".\n",
    "\n",
    "**Pandas** n'est pas disponible par défaut, il faut l'installer.\n",
    "Dans un notebook Jupyter, on peut utiliser la [\"commande magique\"](https://ipython.readthedocs.io/en/stable/interactive/magics.html) `%pip` pour installer des modules Python avec `pip`.\n",
    "\n",
    "Complétez puis exécutez la cellule suivante pour installer la bibliothèque `pandas`."
   ]
  },
  {
   "cell_type": "code",
   "execution_count": null,
   "metadata": {},
   "outputs": [],
   "source": [
    "# Notez le paramètre --quiet pour ne pas afficher les messages d'installation dans le notebook\n",
    "%pip install --quiet pandas"
   ]
  },
  {
   "cell_type": "markdown",
   "metadata": {},
   "source": [
    "Pandas étant installée, reste à l'importer dans l'environnement d'exécution du *notebook* pour pouvoir l'utiliser ensuite.\n",
    "\n",
    "L'usage faisant la norme, on donne souvent l'alias `pd` au module `pandas` lors de son import par souci de concision.\n",
    "Cela permet ensuite d'écrire par exemple `pd.show_versions()` au lieu de `pandas.show_versions()`. \n",
    "\n",
    "Exécutez la cellule suivante pour importer Pandas."
   ]
  },
  {
   "cell_type": "code",
   "execution_count": null,
   "metadata": {},
   "outputs": [],
   "source": [
    "import pandas as pd\n",
    "\n",
    "# On vérifie que l'import s'est bien passé, par exemple en affichant la version de pandas\n",
    "pd.__version__ # Note : Dans un notebook, la dernière valeur de la cellule est toujours affichée !"
   ]
  },
  {
   "cell_type": "markdown",
   "metadata": {},
   "source": [
    "ℹ️ **Tout est prêt !** N'oubliez pas que « si vous ne savez pas, la documentation est là » :\n",
    "- Les tutoriels pour débuter : [https://pandas.pydata.org/docs/getting_started/index.html](https://pandas.pydata.org/docs/getting_started/index.html)\n",
    "- Les guides officiels plus avancés : [https://pandas.pydata.org/docs/user_guide/index.html#user-guide](https://pandas.pydata.org/docs/user_guide/index.html#user-guide)\n",
    "-  La documentation complète : [https://pandas.pydata.org/docs/reference/index.html](https://pandas.pydata.org/docs/reference/index.html)"
   ]
  },
  {
   "cell_type": "markdown",
   "metadata": {},
   "source": [
    "## Lire un fichier CSV\n",
    "\n",
    "La première chose à faire est bien sûr de charger nos deux fichiers CSV pour voir ce qu'ils contiennent, ce qu'on peut faire avec la fonction [`pd.read_csv()`](https://pandas.pydata.org/docs/reference/api/pandas.read_csv.html)."
   ]
  },
  {
   "cell_type": "markdown",
   "metadata": {},
   "source": [
    "<div style=\"border-top: 1px solid #ff9800; padding: 10px; border-radius: 5px; color:#ff9800;\"><strong>🧩 - QUESTION 2 - ⭐</strong></div>\n",
    "\n",
    "À l'aide de la documentation de `read_csv()` <sup><a style=\"color:#ff9800;\" href=\"https://pandas.pydata.org/docs/reference/api/pandas.read_csv.html\">⤷doc</a></sup>, lisez le  fichier `presse_xix-xxe_meta.csv` dans la cellule suivante puis répondez à ces questions : \n",
    "- quelles informations contient le fichier `presse_xix-xxe_meta.csv` ?\n",
    "- combien de lignes contient la table ?\n",
    "- que représente une ligne ?\n",
    "<div style=\"border-bottom: 1px solid #ff9800; padding: 10px; border-radius: 5px;\"></div>"
   ]
  },
  {
   "cell_type": "code",
   "execution_count": null,
   "metadata": {},
   "outputs": [],
   "source": [
    "métadonnées = ... # 🏗️ Complétez ici !\n",
    "métadonnées # Dernière instruction de la cellule = affichée ! ✨"
   ]
  },
  {
   "cell_type": "markdown",
   "metadata": {},
   "source": [
    "On voit que la variable `métadonnées` stocke le contenu du fichier sous la forme d'une **table de données** qui a été renvoyée par l'appel à `pd.read_csv()`.\n",
    "\n",
    "Notez au passage que Pandas a ajouté une première colonne contenant le numéro de la ligne : c'est **l'index** de la table.  Pandas a généré un index qui n'existait pas dans le fichier CSV (ouvrez le avec un éditeur de texte si vous voulez vérifier).\n",
    "\n",
    "Voyons le type de `métadonnée`."
   ]
  },
  {
   "cell_type": "code",
   "execution_count": null,
   "metadata": {},
   "outputs": [],
   "source": [
    "type(métadonnées)"
   ]
  },
  {
   "cell_type": "markdown",
   "metadata": {},
   "source": [
    "`DataFrame`<sup><a style=\"color:#ff9800;\" href=\"https://pandas.pydata.org/docs/reference/api/pandas.DataFrame.html\">⤷doc</a></sup> est la structure proposée par Pandas pour représenter un tableau à deux dimensions (avec des lignes et des colonnes), ici contenant toutes les données issues du fichier CSV."
   ]
  },
  {
   "cell_type": "markdown",
   "metadata": {},
   "source": [
    "## Sélections\n",
    "\n",
    "Une `DataFrame` est un objet riche qui vient avec une série d'opérateurs puissants et élégants pour **sélectionner**, **enrichir**, **modifier**, **supprimer** le contenu de la table.\n",
    "\n",
    "Expérimentons un petit peu la sélection pour s'échauffer.\n",
    "\n",
    "### Sélectionner des colonnes\n",
    "\n",
    "On peut sélectionner une partie seulement des colonnes de la table avec l'opérateur \"crochets\" `[]`.\n",
    "\n",
    "Par exemple, `métadonnées[\"date\"]`sélectionner uniquement la colonne `\"date\"`"
   ]
  },
  {
   "cell_type": "code",
   "execution_count": null,
   "metadata": {},
   "outputs": [],
   "source": [
    "métadonnées[\"date\"]"
   ]
  },
  {
   "cell_type": "markdown",
   "metadata": {},
   "source": [
    "<div style=\"border-top: 1px solid #ff9800; padding: 10px; border-radius: 5px; color:#ff9800;\"><strong>🧩 - QUESTION 3 - ⭐</strong></div>\n",
    "\n",
    "À l'aide du tutoriel Pandas suivant, modifiez la cellule suivante pour sélectionner les colonnes `\"titre\"`,`\"date\"` et `\"nb_pages\"`.\n",
    "\n",
    "🡆 **https://pandas.pydata.org/docs/getting_started/intro_tutorials/03_subset_data.html**\n"
   ]
  },
  {
   "cell_type": "code",
   "execution_count": null,
   "metadata": {},
   "outputs": [],
   "source": [
    "métadonnées[\"...\"] # 🏗️ Complétez ici !"
   ]
  },
  {
   "cell_type": "markdown",
   "metadata": {},
   "source": [
    "<div style=\"border-bottom: 1px solid #ff9800; padding: 10px; border-radius: 5px;\"></div>\n",
    "\n",
    "<span style=\"color: #40d6d1\"><strong>💡 Astuce</strong></span> Quand on sélectionner une seule colonne, ex. `métadonnées[\"pages\"]`, on peut aussi utiliser la syntaxe `métadonnées.pages`. \n",
    "\n",
    "### Sélectionner des lignes\n",
    "\n",
    "Bien sûr on peut aussi sélectionner des lignes, soit :\n",
    "1.  en utilisant les valeurs de l'index, avec `métadonnées.loc[]` (Notez bien l'utilisation de **crochets `[]`** au lieu de parenthèses `()` pour appeler `loc` & `iloc`),\n",
    "2. avec leur position, grâce à `métadonnées.iloc[]`\n",
    "3. même avec des conditions sur les valeurs des cellules  !\n",
    "\n",
    "Comme, à la lecture du fichier, Pandas a généré un index en utilisant le numéro de ligne,  `iloc[]` et `iloc[]` sélectionnent les mêmes lignes : "
   ]
  },
  {
   "cell_type": "code",
   "execution_count": null,
   "metadata": {},
   "outputs": [],
   "source": [
    "print(métadonnées.loc[0]) # Sélection de ligne de valeur d'index 0\n",
    "print(métadonnées.iloc[0]) # Sélection de la première ligne de la table\n",
    "# Regarez que c'est bien la même ligne qui est sélectionnée les deux fois !"
   ]
  },
  {
   "cell_type": "markdown",
   "metadata": {},
   "source": [
    "On peut aussi sélectionner des lignes en filtrant sur les valeurs des cellules.\n",
    "\n",
    "\n",
    "Il existe pour cela deux syntaxes possibles, avec des crochets `[]`, ou avec la méthode `query()`. Nous ne verrons ici que la seconde, moins utilisée mais plus simple. Le tutorial Pandas sur la sélection est plus complet et traite de la première syntaxe : https://pandas.pydata.org/docs/getting_started/intro_tutorials/03_subset_data.html \n",
    "\n",
    "La méthode `query()` permets d'écrire des conditions de sélection à la manière de SQL.\n",
    "Par exemple, pour sélectionner toutes les données du journal **Le Matin** avec  **au moins 4 pages**, on peut tout simplement écrire :"
   ]
  },
  {
   "cell_type": "code",
   "execution_count": null,
   "metadata": {},
   "outputs": [],
   "source": [
    "métadonnées.query(\"titre == 'Le Matin' and nb_pages > 4\") # Le résultat est  une extraction de la table `métadonnées` avec seulement les lignes qui vérifient la condition !"
   ]
  },
  {
   "cell_type": "markdown",
   "metadata": {},
   "source": [
    "### Sélections combinées\n",
    "\n",
    "Bien sûr on peut chaîner les sélection de ligne et les combiler avec  des sélections de colonnes !\n",
    "\n",
    "Par exemple  :\n",
    "```python\n",
    "# Sélection des 100 premières lignes de données pour le journal  `Le Matin`\n",
    "métadonnées.query(\"titre == 'Le Matin' \").iloc[0:100]\n",
    "\n",
    "# Sélection des titres et dates de des éditions de  plus de 4 pages\n",
    "métadonnées.query(\"nb_pages > 4\")[[\"titre\", \"date\"]]\n",
    "  ```\n",
    "Pas mal, non ? 🤩 Et encore, c'est un tout petit aperçu de la puissance de Pandas !\n",
    "\n",
    "<div style=\"border-top: 1px solid #ff9800; padding: 10px; border-radius: 5px; color:#ff9800;\"><strong>🧩 - QUESTION 4 - ⭐⭐</strong></div>\n",
    "\n",
    "Modifiez la cellule suivante pour sélectionner toutes les éditions qui contiennent au moins une illustration, et ne conservez que les colonnes `\"titre\"` et `\"date\"`."
   ]
  },
  {
   "cell_type": "code",
   "execution_count": null,
   "metadata": {},
   "outputs": [],
   "source": [
    "métadonnées.query(\"...\") # 🏗️ Complétez ici !"
   ]
  },
  {
   "cell_type": "markdown",
   "metadata": {},
   "source": [
    "<div style=\"border-bottom: 1px solid #ff9800; padding: 10px; border-radius: 5px;\"></div>\n",
    "\n",
    "## Modifications\n",
    "\n",
    "Nous avons vu comment sélectionner une sous-parties d'une `DataFrame` que l'on peut ensuite stocker, par exemple, dans une variable :\n",
    "```python\n",
    "selection = métadonnées[[\"titre\", \"date\"]] # La variable `selection` contient une DataFrame qui est une \"vue\" sur les 2 colonnes titre et date de la DataFrame  `métadonnées`.\n",
    "``` \n",
    "\n",
    "Mais on peut utiliser une syntaxe similaire pour **modifier** le contenu d'une `DataFrame` ou même **ajouter** des éléments.\n",
    "\n",
    "<div style=\"border-top: 1px solid #ff9800; padding: 10px; border-radius: 5px; color:#ff9800;\"><strong>🧩 - QUESTION 5 - ⭐</strong></div>\n",
    "\n",
    "Expérimentons utilement, cette fois. Tentez de sélectionner toutes les éditions de presse **avant le 25 août 1855**.\n",
    "\n",
    "<span style=\"color: #40d6d1\"><strong>💡 Astuce</strong></span> Pandas saura reconnaître qu'on compare avec une date si on l'écrit `'1855-08-25'`, "
   ]
  },
  {
   "cell_type": "code",
   "execution_count": null,
   "metadata": {},
   "outputs": [],
   "source": [
    "métadonnées[...] # 🏗️ Complétez ici !"
   ]
  },
  {
   "cell_type": "markdown",
   "metadata": {},
   "source": [
    "<div style=\"border-bottom: 1px solid #ff9800; padding: 10px; border-radius: 5px;\"></div>\n",
    "\n",
    "On dirait bien que ça ne fonctionne pas ...🫤\n",
    "\n",
    "\n",
    "Inspectons le type de la colonne `date`..."
   ]
  },
  {
   "cell_type": "code",
   "execution_count": null,
   "metadata": {},
   "outputs": [],
   "source": [
    "métadonnées.dtypes"
   ]
  },
  {
   "cell_type": "markdown",
   "metadata": {},
   "source": [
    "La colonne `date` est de type `object`.\n",
    "\n",
    "Il y a sur la page [https://pbpython.com/pandas_dtypes.html](https://pbpython.com/pandas_dtypes.html) un tableaux des types possibles dans Pandas.\n",
    "On voit que le type `object` est utilisé pour les **chaînes de caractères**, ou les colonnes qui mélangent chaînes de caractères et nombres. \n",
    "Pourtant, il serait logique que le type de la colonne soit `datetime64`, non ?\n",
    "Cela signifie donc que notre filtre ne fonctionne pas car Panda ne comprend pas que la colonne `\"date\"` contient...des dates. 🤔\n",
    "\n",
    "\n",
    "Pourquoi ? \n",
    "1. car le format utilisé, \"jour.mois.année\", n'est pas un format de date standard\n",
    "2. car `read_csv()` ne devine pas seul qu'une colonne contient des dates, il faut lui spécifier avec l'option `parse_date=[\"colonne de dates\"]`.\n",
    "\n",
    "Bon, les données sont déjà chargées, trop tard ? Et bien non, on peut parfaitement **modifier** la colonne `\"date\"` pour la transformer en date compréhensible par Python (et Pandas) !\n",
    "\n",
    "Tout d'abord, on peut convertir les éléments de la colonne `\"date\"` en objets `datetime64`grâce à la fonction `pd.to_datetime()`<sup><a style=\"color:#ff9800;\" href=\"https://pandas.pydata.org/docs/reference/api/pandas.to_datetime.html\">⤷doc</a></sup> :\n",
    "```python\n",
    "pd.to_datetime(métadonnées.date)\n",
    "```\n",
    "\n",
    "Cela va renvoyer une copie de la colonne `\"date\"`, mais cette fois où chaque date en chaîne de caractère a été convertie en objet de type`datetime64`. \n",
    "\n",
    "Pour finir, il reste encore à remplacer les valeurs de la colonne `\"date\"` dans notre `DataFrame` par les dates converties !\n",
    "\n",
    "Pour cela on peut utiliser la syntaxe **d'affectation** de Pandas :\n",
    "```python\n",
    "métadonnées[\"date\"] = ... # On affecte à la colonne `date`de la DataFrame `métadonnées`, facile non ? 😎\n",
    "```\n",
    "\n",
    "<div style=\"border-top: 1px solid #ff9800; padding: 10px; border-radius: 5px; color:#ff9800;\"><strong>🧩 - QUESTION 6 - ⭐⭐</strong></div>\n",
    "\n",
    "Utilisez la cellule suivante pour combiner les deux instructions précédentes afin de transformer la colonne `\"date\"` en dates `datetime64`.\n",
    "\n",
    "Vérifiez ensuite ce que donne `métadonnées.dtypes` et finalement testez à nouveau la condition `métadonnées.date < '1855-08-25'` !"
   ]
  },
  {
   "cell_type": "code",
   "execution_count": null,
   "metadata": {},
   "outputs": [],
   "source": [
    "... # 🏗️ Complétez ici !"
   ]
  },
  {
   "cell_type": "markdown",
   "metadata": {},
   "source": [
    "<span style=\"color: #40d6d1\"><strong>💡 Astuce</strong></span> Un **UserWarning** s'affiche quand vous convertissez la colonne `\"date\"` ? Lisez le et corrigez l'appel à `pd.to_datetime()` en fonction. C'est rarement une bonne idée d'ignorer un avertissement 😉\n",
    "\n",
    "<div style=\"border-bottom: 1px solid #ff9800; padding: 10px; border-radius: 5px;\"></div>"
   ]
  },
  {
   "cell_type": "markdown",
   "metadata": {},
   "source": [
    "# B/ Visualiser des tables Pandas avec Plotly 📈\n",
    "\n",
    "Tout ça, c'est très beau, mais ce n'est pas en regardant une `DataFrame` de 140 000 lignes pendant très longtemps qu'on en comprend mieux le contenu.\n",
    "\n",
    "La visualisation de données, avec des graphiques notamment, peut être un outil d'exploration heuristique très puissant. Avec des graphiques interactifs, c'est encore mieux !\n",
    "\n",
    "C'est là que [**Plotly**](https://plotly.com/python/) entre en jeu. C'est une bibliothèque Python qui permet de créer, plutôt très simplement, des graphiques dynamiques et interactifs ! \n",
    "\n",
    "Elle n'est pas installée par défaut, nous devons donc le faire, puis l'importer."
   ]
  },
  {
   "cell_type": "code",
   "execution_count": null,
   "metadata": {},
   "outputs": [],
   "source": [
    "%pip install --quiet plotly\n",
    "\n",
    "# On importe en fait le module `plotly.express`, qui est l'interface la plus simple pour tracer des graphiques avec Plotly.\n",
    "import plotly.express as px"
   ]
  },
  {
   "cell_type": "markdown",
   "metadata": {},
   "source": [
    "Le principe de fonctionnement de Plotly est simple : \n",
    "1. à partir d'une `DataFrame` Pandas, on construit l'un des nombreux graphes possibles listés sur cette page : https://plotly.com/python/reference/index/\n",
    "2. les fonctions de construction de graphes renvoient un objet de type `Figure`, que l'on peut enrichir d'un titre, de notes  et surtout...\n",
    "3. ... on affiche la figure (et, éventuellement, on l'exporte).\n",
    "\n",
    "Voyons cela pas à pas pour construire votre premier graphique : **l'évolution de la présence d'illustrations dans la presse** !\n",
    "\n",
    "## Le cas du \"Gaulois\"\n",
    "\n",
    "Commençons avec le cas du journal \"Le Gaulois\".\n",
    "\n",
    "<div style=\"border-top: 1px solid #ff9800; padding: 10px; border-radius: 5px; color:#ff9800;\"><strong>🧩 - QUESTION 7 - ⭐</strong></div>\n",
    "\n",
    "Utilisez la cellule suivante afin de filtrer `métadonnées` pour ne garder que les éditions du journal \"Le Gaulois\", et stockez le résultat dans une variable nommée `le_gaulois`. "
   ]
  },
  {
   "cell_type": "code",
   "execution_count": null,
   "metadata": {},
   "outputs": [],
   "source": [
    "le_gaulois = ... # 🏗️ Complétez ici !\n",
    "le_gaulois.head(10) # La méthode `head()` permet d'afficher les premières lignes d'un DataFrame, ici les 10 premières."
   ]
  },
  {
   "cell_type": "markdown",
   "metadata": {},
   "source": [
    "À partir de cette extraction nous pouvons construire notre premier graphique qui tracera l'évolution du nombre d'illustration (colonne `\"nb_illustrations\"`) en fonction du temps (colonne `\"date\"`). \n",
    "\n",
    "Un mode de visualisation basique consiste à tracer un graphe avec le temps en absisses (axe horizontal) et le nombre d'illustrations en ordonnées (axe vertical), puis à dessiner un point pour chaque ligne du tableau à la coordonnée (date, nb_illustrations) correspondante. \n",
    "\n",
    "Dans Plolty, les graphes de points s'appellent [***scatter plots***](https://en.wikipedia.org/wiki/Scatter_plot) (\"nuages de points\") et se construisent avec la fonction `px.scatter()`<sup><a style=\"color:#ff9800;\" href=\"https://plotly.com/python/line-and-scatter\">⤷doc</a></sup> : \n",
    "```python\n",
    "px.scatter(\n",
    "    dataframe, # La DataFrame qui fournit les données à dessiner\n",
    "    x=...,     # La colonne à utiliser pour les abscisses.  Optionnel : si non précisé, l'index sera utilisé.\n",
    "    y=...      # La colonne à utiliser pour les ordonnée. Optionnel : si non précisé, l'index sera utilisé.\n",
    "    title=...  # Titre donné au graphique. Optionnel.\n",
    "    ...        # les fonctions de création de graphes ont beaucoup de paramètres optionnels de personnalisation\n",
    ")\n",
    "```\n",
    "\n",
    "Utilisez la cellule suivante pour construire le graphique du **nombre d'illustrations dans les numéros du 'Gaulois' au cours du temps** !\n",
    "\n",
    "Remarquez l'interactivité \"par défaut\" : vous pouvez selectionner une zone pour zoomer, ou utiliser la barre d'outil qui s'affiche en haut à droite quand vous survolez le graphique avec la souris !\n"
   ]
  },
  {
   "cell_type": "code",
   "execution_count": null,
   "metadata": {},
   "outputs": [],
   "source": [
    "px.scatter(...) # 🏗️ Complétez ici !"
   ]
  },
  {
   "cell_type": "markdown",
   "metadata": {},
   "source": [
    "<div style=\"border-bottom: 1px solid #ff9800; padding: 10px; border-radius: 5px;\"></div>\n",
    "\n",
    "Le graphique produit n'est pas très lisible en raison de la densité des points et du nombre d'éditions avec un nombre d'illustrations très faibles ou nulles; on s'en rend bien compte en zoomant.\n",
    "Nous pourrions réduire l'apparent \"bruit\" en réduisant la résolution temporelle, par exemple en sommant le nombre d'illustrations par années.\n",
    "\n",
    "Notre `DataFrame` est une série temporelle : nous traçons l'évolution d'une valeur en fonction du temps, celui-ci étant encodé par la colonne `\"date\"`.\n",
    "Cela tombe bien car nous pouvons changer très facilement la résolution temporelle d'une colonne de dates avec la fonction `DataFrame.resample()` <sup><a style=\"color:#ff9800;\" href=\"https://pandas.pydata.org/docs/reference/api/pandas.DataFrame.resample.html\">⤷doc</a></sup>.\n",
    "\n",
    "Cette fonction change la fréquence d'une série d'une colonne d'objets `datetime64`. \n",
    "\n",
    "Par exemple si l'on veut que la colonne `\"date\"` de la table `le_gaulois` soit ré-échantillonné à une résolution annuelle, groupant automatiquement les lignes ayant la même année  : \n",
    "```python\n",
    "le_gaulois.resample(\"YE\",on=\"date\")\n",
    "# YE pour \"Year End\", c'est-à-dire qu'on arrondit  à la fin de l'année .\n",
    "# `on=\"date\"` précise quelle colonne contient les dates à rééchantillonner.\n",
    "```\n",
    "\n",
    "`resample()` ne renvoie pas directement une `DataFrame`, mais un objet intermédiaire qui contient les regroupements. \n",
    "Pour récupérer une `DataFrame`, il faut d'abord appliquer une fonction transformant chaque groupe en une unique ligne.\n",
    "Il en existe plusieurs, nous allons ici utiliser la méthode `sum()` qui additionne les valeurs de chaque colonne dans chaque groupe :\n",
    "```python\n",
    "le_gaulois.resample(\"YE\",on=\"date\").sum()\n",
    "```\n",
    "<div style=\"border-top: 1px solid #ff9800; padding: 10px; border-radius: 5px; color:#ff9800;\"><strong>🧩 - QUESTION 8 - ⭐⭐</strong></div>\n",
    "\n",
    "Utilisez la cellule ci-dessous pour rééchantillonner annuellement la table `le_gaulois`.\n",
    "Affichez et observez la `DataFrame`produite pour vous assurer qu'elle est bien rééchantillonnée comme vous le souhaitiez !"
   ]
  },
  {
   "cell_type": "code",
   "execution_count": null,
   "metadata": {},
   "outputs": [],
   "source": [
    "le_gaulois = ... # 🏗️ Complétez ici !.\n",
    "\n",
    "le_gaulois # Pour afficher la table rééchantillonnée"
   ]
  },
  {
   "cell_type": "markdown",
   "metadata": {},
   "source": [
    "<span style=\"color: #40d6d1\"><strong>💡 Astuce</strong></span> Avez-vous remarqué ce que la méthode `.sum()` a provoqué sur la colonne `\"date\"`? Comme c'est une colonne de chaînes de caractères, Pandas a tout simplement concaténé toutes les valeurs groupées ! Pas top 😒 Ce n'est pas gênant pour le moment, mais nous verrons plus loin comment éviter ce souci !\n",
    "\n",
    "En tout cas, on peut maintenant créer de nouveau le graphique avec notre table rééchantillonnée !\n",
    "\n",
    "Observez l'affichage de la table `le_gaulois` rééchantillonnée : la méthode `resample()` a automatiquement fait de `\"date\"` l'index de la `DataFrame`. \n",
    "Cela signifie que nous n'avons pus besoin de préciser l'option `x=\"date\"` en appellant `x.scatter()` : Plotly utilisera automatiquement l'index ! \n",
    "\n",
    "Complétez pour cela la cellule suivante :"
   ]
  },
  {
   "cell_type": "code",
   "execution_count": null,
   "metadata": {},
   "outputs": [],
   "source": [
    "px.scatter(...) # 🏗️ Complétez ici !"
   ]
  },
  {
   "cell_type": "markdown",
   "metadata": {},
   "source": [
    "<div style=\"border-bottom: 1px solid #ff9800; padding: 10px; border-radius: 5px;\"></div>\n",
    "\n",
    "C'est mieux, non ? 😌\n",
    "\n",
    "On pourrait faire encore mieux : tracer une courbe plutôt que des points !\n",
    "\n",
    "C'est la fonction `px.line()` qui se charge de cela; elle fonctionne exactement comme `px.scatter()` !\n",
    "\n",
    "<div style=\"border-top: 1px solid #ff9800; padding: 10px; border-radius: 5px; color:#ff9800;\"><strong>🧩 - QUESTION 9 - ⭐</strong></div>\n",
    "\n",
    "Utilisez la cellule suivante pour créer cette fois la **courbe** de l'évolution du nombre d'illustrations dans Le Gaulois !\n",
    "\n",
    "<span style=\"color: #40d6d1\"><strong>💡 Astuce</strong></span> Utilisez l'option `line_shape=\"spline\"` pour lisser la courbe !"
   ]
  },
  {
   "cell_type": "code",
   "execution_count": null,
   "metadata": {},
   "outputs": [],
   "source": [
    "px.line(...) # 🏗️ Complétez ici !"
   ]
  },
  {
   "cell_type": "markdown",
   "metadata": {},
   "source": [
    "<div style=\"border-bottom: 1px solid #ff9800; padding: 10px; border-radius: 5px;\"></div>\n",
    "\n",
    "## Ouf, c'est fini ! 🏁\n",
    "\n",
    "C'est tout pour cette fois, vous voici arrivé(e)s au bout, félicitations ! 🎉🎉\n",
    "\n",
    "Dans la prochaine séquence, nous apprendrons à utiliser Plotly pour constuire un **tableau de bord** interactif pour explorer les données de la presse !\n",
    "\n",
    "\n",
    "## [Bonus 🔥] Et maintenant tous ensemble\n",
    "\n",
    "Mieux qu'observer un journal unique, on peut comparer la dynamique de tous les journaux sur un même graphique.\n",
    "\n",
    "Une méthode, pas la plus élégante mais la plus simple, consiste tout simplement à répéter l'opération précédente pour les autres journaux, soit :\n",
    "1. Filtrer pour conserver les lignes relatives à un journal ;\n",
    "2. Rééchantilloner à l'année avec `resample()`\n",
    "3. Créer le graphique du journal avec `px.line()`.\n",
    "\n",
    "Une fois tous les graphiques créés, nous pourrons les combiner en une seule et unique figure ! \n",
    "\n",
    "Relevons pour commencer la liste des journaux disponibles :\n"
   ]
  },
  {
   "cell_type": "code",
   "execution_count": null,
   "metadata": {},
   "outputs": [],
   "source": [
    "métadonnées.titre.unique() # Affiche les valeurs uniques de la colonne `titre`!"
   ]
  },
  {
   "cell_type": "markdown",
   "metadata": {},
   "source": [
    "<div style=\"border-top: 1px solid #ff9800; padding: 10px; border-radius: 5px; color:#ff9800;\"><strong>🧩 - QUESTION 10 - ⭐⭐⭐ </strong></div>\n",
    "\n",
    "Dans la cellule suivante, complétez la fonction `rééchantillonne_journal(str)` qui prends en paramètre le titre d'un journal et renvoie l'extrait de `métadonnées` rééchantillonné pour ce journal.\n",
    "Enfin, construisez les tables rééchantillonnées pour tous les journaux."
   ]
  },
  {
   "cell_type": "code",
   "execution_count": null,
   "metadata": {},
   "outputs": [],
   "source": [
    "def rééchantillonne_journal(titre: str):\n",
    "    # 1. Filtrage\n",
    "    dataframe = ... # 🏗️ Complétez ici !\n",
    "    # 2. Rééchantillonnage\n",
    "    dataframe = ... # 🏗️ Complétez ici !\n",
    "    dataframe[\"titre\"] = titre # 💡 Astuce : Utiliser sum() sur la colonne titre a pour effet de concaténer toutes valeurs groupées, ce qui n'a pas de sens. On réassigne donc le titre de façon explicite.\n",
    "    return dataframe\n",
    "\n",
    "df1 = rééchantillonne_journal(\"Le Gaulois\")\n",
    "df2 = ... # 🏗️ Complétez ici pour Le Journal des Débats politiques et littéraires\n",
    "df3 = ... # 🏗️ Complétez ici pour Le Matin\n",
    "df4 = ... # 🏗️ Complétez ici pour Ouest Eclair (Éd. de Nantes)\n",
    "df5 = ... # 🏗️ Complétez ici pour Ouest Eclair (Éd. de Rennes)\n",
    "df6 = ... # 🏗️ Complétez ici pour Le Petit Journal illustré Supplément du dimanche\n",
    "df7 = ... # 🏗️ Complétez ici pour Le Petit Parisien"
   ]
  },
  {
   "cell_type": "markdown",
   "metadata": {},
   "source": [
    "Reste à combiner tous ces graphes en un seul.\n",
    "\n",
    "Pour cela on va commencer par combiner toutes les `DataFrame` `df1...7` en une seule `DataFrame` avec la fonction `pd.concat()` qui (c'est son nom) concatène (=\"colle\") des `DataFrame` entre elles."
   ]
  },
  {
   "cell_type": "code",
   "execution_count": null,
   "metadata": {},
   "outputs": [],
   "source": [
    "df_totale = pd.concat([df1, df2, df3, df4, df5, df6, df7])\n",
    "df_totale.sample(10) # Affiche 10 lignes aléatoires de la table"
   ]
  },
  {
   "cell_type": "markdown",
   "metadata": {},
   "source": [
    "Et maintenant, place au graphique combiné ! \n",
    "\n",
    "Réutilisez la méthode `px.line(...)`pour afficher `df_totale`.  Afin de signaler à Plotly qu'il faut distinguer plusieurs courbes en se basant sur une colonne, on utilise le paramètre optionnel `color=\"nom de la colonne de catégories\"`. Dans notre cas, la colonne indiquant à quel courbe \"appartient\" une ligne est `\"titre\"`.\n",
    "\n",
    "Utilisez la cellule suivante pour afficher le graphe combiné avec la méthode `px.line()`."
   ]
  },
  {
   "cell_type": "code",
   "execution_count": null,
   "metadata": {},
   "outputs": [],
   "source": [
    "... # 🏗️ Complétez ici !"
   ]
  },
  {
   "cell_type": "markdown",
   "metadata": {},
   "source": [
    "<div style=\"border-bottom: 1px solid #ff9800; padding: 10px; border-radius: 5px;\"></div>"
   ]
  }
 ],
 "metadata": {
  "kernelspec": {
   "display_name": ".venv",
   "language": "python",
   "name": "python3"
  },
  "language_info": {
   "codemirror_mode": {
    "name": "ipython",
    "version": 3
   },
   "file_extension": ".py",
   "mimetype": "text/x-python",
   "name": "python",
   "nbconvert_exporter": "python",
   "pygments_lexer": "ipython3",
   "version": "3.12.7"
  }
 },
 "nbformat": 4,
 "nbformat_minor": 2
}
