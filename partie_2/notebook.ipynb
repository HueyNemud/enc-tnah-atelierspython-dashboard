{
 "cells": [
  {
   "cell_type": "code",
   "execution_count": null,
   "metadata": {
    "vscode": {
     "languageId": "plaintext"
    }
   },
   "outputs": [],
   "source": [
    "# **Préambule**\n",
    "# Mise à jour de la bibliothèque nbformats utilisée par Plotly par précaution\n",
    "%pip install --quiet nbformat"
   ]
  },
  {
   "cell_type": "markdown",
   "metadata": {
    "vscode": {
     "languageId": "plaintext"
    }
   },
   "source": [
    "# Séance 2 : Création d'un *dashboard* avec Plotly Dash\n",
    "\n",
    "Bonjour 👋 !\n",
    "\n",
    "Bienvenue dans la seconde partie de la séquence dédiée au développement d'un **tableau de bord**  (*dashboard*) pour explorer graphiquement un jeu de données de grande taille.\n",
    "\n",
    "## Objectifs de la séance 🎯\n",
    "\n",
    "- découvrir Dash, la bibliothèque compagnonne de Plotly qui permet de créer des applications de visualisation de données !\n",
    "- construire un *dashboard* pour explorer les métadonnées de la presse.\n",
    "- expérimenter en pratique comment lire des images depuis Gallica avec IIIF.\n",
    "\n",
    "## Important ❗\n",
    "\n",
    "1. Répondez aux questions directement dans les cellules de ce notebook.\n",
    "\n",
    "2. 🆘 Une question n'est pas claire ? Vous êtes bloqué(e) ?  N'attendez pas, **appelez à l'aide 🙋**.  \n",
    "\n",
    "3. 🤖 Vous pouvez utiliser ChatGPT/Gemini/etc. pour vous aider, **mais** contraignez vous à n'utiliser ses propositions **que si vous les comprenez vraiment**. Ne devenez pas esclave de la machine ! 🙏\n",
    "\n",
    "4. 😌 Si vous n'avez pas réussi ou pas eu le temps de répondre à une question, **pas de panique**, le répertoire `correction/` contient une solution !\n",
    "\n",
    "ℹ️ **Info** : La difficulté d'une question **🧩**  est indiquée de ⭐ à ⭐⭐⭐⭐."
   ]
  }
 ],
 "metadata": {
  "language_info": {
   "name": "python"
  }
 },
 "nbformat": 4,
 "nbformat_minor": 2
}
