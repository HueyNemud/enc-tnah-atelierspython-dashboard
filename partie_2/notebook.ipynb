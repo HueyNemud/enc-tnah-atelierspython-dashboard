{
 "cells": [
  {
   "cell_type": "code",
   "execution_count": null,
   "metadata": {},
   "outputs": [],
   "source": [
    "# **Préambule**\n",
    "# Mise à jour de la bibliothèque nbformats utilisée par Plotly par précaution\n",
    "%pip install --quiet nbformat"
   ]
  },
  {
   "cell_type": "markdown",
   "metadata": {
    "vscode": {
     "languageId": "plaintext"
    }
   },
   "source": [
    "# Séance 2 : Création d'un *dashboard* avec Plotly Dash\n",
    "\n",
    "Bonjour 👋 !\n",
    "\n",
    "Bienvenue dans la seconde partie de la séquence dédiée au développement d'un **tableau de bord**  (*dashboard*) pour explorer graphiquement un jeu de données de grande taille.\n",
    "\n",
    "## Objectifs de la séance 🎯\n",
    "\n",
    "- découvrir Dash, la bibliothèque compagnonne de Plotly qui permet de créer des applications de visualisation de données !\n",
    "- construire un *dashboard* pour explorer les métadonnées de la presse.\n",
    "- expérimenter en pratique comment lire des images depuis Gallica avec IIIF.\n",
    "\n",
    "## Important ❗\n",
    "\n",
    "1. Répondez aux questions directement dans les cellules de ce notebook.\n",
    "\n",
    "2. 🆘 Une question n'est pas claire ? Vous êtes bloqué(e) ?  N'attendez pas, **appelez à l'aide 🙋**.  \n",
    "\n",
    "3. 🤖 Vous pouvez utiliser ChatGPT/Gemini/etc. pour vous aider, **mais** contraignez vous à n'utiliser ses propositions **que si vous les comprenez vraiment**. Ne devenez pas esclave de la machine ! 🙏\n",
    "\n",
    "4. 😌 Si vous n'avez pas réussi ou pas eu le temps de répondre à une question, **pas de panique**, le répertoire `correction/` contient une solution !\n",
    "\n",
    "ℹ️ **Info** : La difficulté d'une question **🧩**  est indiquée de ⭐ à ⭐⭐⭐⭐.\n",
    "\n",
    "# Un \"tableau de bord\" pour des données historiques, quel intérêt ? 🤔\n",
    "\n",
    "Bonne question, qui en appelle une autre : qu'est-ce qu'un *dashboard*, exactement ?\n",
    "\n",
    "Nés avec l'informatisation des entreprises dans la seconde moitié du XX<sup>e</sup> siècles, les **tableaux de bords** (*dashboards*) sont des **logiciels de visualisation de données** destinés à assister la prise de décision en fournissant des vues d'ensembles **synthétiques**, **interactives** et  **cohérentes** sur un ensemble d'indicateurs calculés à partir de données généralement massives et dynamiques.\n",
    "\n",
    "Aujourd'hui les usages des tableaux de bords sont multiples et ils sont souvent utilisés pour **l'exploration heuristique** et la **présentation synthétique** de jeux de données complexes.\n",
    "Lors de la pandémie de COVID 19, aviez-vous visité le très fameux site [COVIDTracker](https://covidtracker.fr/)? Voilà un parfait exemple de *dashboard* destiné à rendre accessibles au grand public les données épidémiologique de [Santé Publique France](https://www.santepubliquefrance.fr/).\n",
    "\n",
    "L'usage de ces outils se développe également en sciences sociales, entre autres en histoire et en particulier pour les travaux qui s'appuient sur de grands jeux de données.\n",
    "Un *dashboard* peut alors servir d'outil d'*exploration heuristique et de compréhension visuelle* des données pour aider à identifier des pistes de recherche.\n",
    "Il peut plus simplement servir à mesurer et contrôler qualitativement les données produites par une chaîne de traitement automatisée.\n",
    "\n",
    "# A/ Plotly Dash  📈\n",
    "\n",
    "Il existe aujourd'hui plusieurs outils de haut niveau permettant de construire des *dashboards*.\n",
    "Vous en connaissez déjà un : [Tableau](https://www.tableau.com/).\n",
    "\n",
    "Dans cette séance nous allons en découvrir un autre : **[Dash](https://dash.plotly.com/)**, développé par les auteurs de [Plotly](https://plotly.com/).\n",
    "\n",
    "Dash est une bibliothèque Python qui offre un ensemble de composant logiciels de haut niveau (= qui cachent la complexité) afin de simplifier au maximum la création **d'applications Web de visualisation de données**.\n",
    "\n",
    "Concrètement, Dash sert à constuire une application complète qui utilisé Flask pour le *backend*, [React](https://fr.react.dev/) pour le *frontend*, et Plotly pour les graphes dynamiques...tout ça sans avoir jamais besoin d'utiliser directement ni Flask, ni React !\n",
    "\n",
    "On peut ainsi créer un *dashboard* qui lit un flux de données puis le déployer sur le Web. Mais Dash a également l'avantage de permettre de créer une application Web 100% hors ligne, pour explorer un jeu de données stocké localement, le tout simplement en exécutant un script Python. Pas mal, non ? C'est ce que nous allons tester aujourd'hui 😎\n",
    "\n",
    "\n",
    "## Mon premier *dashboard* avec Dash 🧸\n",
    "\n",
    "Commençons par installer et importer Dash dans l'environnement de ce *notebook*."
   ]
  },
  {
   "cell_type": "code",
   "execution_count": null,
   "metadata": {},
   "outputs": [],
   "source": [
    "%pip install --quiet dash\n",
    "\n",
    "import dash\n",
    "\n",
    "f\"Version installée : {dash.version.__version__}\"  # Message d'information : on affiche la version installée de Dash."
   ]
  },
  {
   "cell_type": "code",
   "execution_count": null,
   "metadata": {},
   "outputs": [],
   "source": [
    "app = dash.Dash()\n",
    "\n",
    "app.layout = dash.html.Div(\n",
    "    \"Exploration des métadonnées  quantitatives de la  presse française, XIX-XXe siècles\"\n",
    ")\n",
    "\n",
    "app.run_server(debug=True)"
   ]
  }
 ],
 "metadata": {
  "kernelspec": {
   "display_name": ".venv",
   "language": "python",
   "name": "python3"
  },
  "language_info": {
   "codemirror_mode": {
    "name": "ipython",
    "version": 3
   },
   "file_extension": ".py",
   "mimetype": "text/x-python",
   "name": "python",
   "nbconvert_exporter": "python",
   "pygments_lexer": "ipython3",
   "version": "3.12.7"
  }
 },
 "nbformat": 4,
 "nbformat_minor": 2
}
